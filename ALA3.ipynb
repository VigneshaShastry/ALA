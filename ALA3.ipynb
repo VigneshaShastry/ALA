{
  "nbformat": 4,
  "nbformat_minor": 0,
  "metadata": {
    "colab": {
      "provenance": []
    },
    "kernelspec": {
      "name": "python3",
      "display_name": "Python 3"
    },
    "language_info": {
      "name": "python"
    }
  },
  "cells": [
    {
      "cell_type": "code",
      "execution_count": 1,
      "metadata": {
        "id": "Awu2JyknyGeA"
      },
      "outputs": [],
      "source": [
        "import numpy as np\n",
        "import pandas as pd\n",
        "import sys"
      ]
    },
    {
      "cell_type": "code",
      "source": [
        "if('google.colab' in sys.modules):\n",
        "    from google.colab import drive\n",
        "    drive.mount('/content/drive', force_remount = True)\n",
        "    # Change path below starting from /content/drive/MyDrive/Colab Notebooks/\n",
        "    # depending on how data is organized inside your Colab Notebooks folder in\n",
        "    # Google Drive\n",
        "    DIR = '/content/drive/MyDrive/Colab Notebooks'\n",
        "    DATA_DIR = DIR+'/Data/'\n",
        "else:\n",
        "    DATA_DIR = 'Data/'"
      ],
      "metadata": {
        "colab": {
          "base_uri": "https://localhost:8080/"
        },
        "id": "dmi7_hJGyWMn",
        "outputId": "555e0b71-9f06-43ee-9d0b-ae19d6662dbd"
      },
      "execution_count": 2,
      "outputs": [
        {
          "output_type": "stream",
          "name": "stdout",
          "text": [
            "Mounted at /content/drive\n"
          ]
        }
      ]
    },
    {
      "cell_type": "code",
      "source": [
        "DATA_DIR"
      ],
      "metadata": {
        "colab": {
          "base_uri": "https://localhost:8080/",
          "height": 35
        },
        "id": "CU2Zhsud0OYh",
        "outputId": "e7e88873-00c8-4082-97d5-e25c8e694cbf"
      },
      "execution_count": null,
      "outputs": [
        {
          "output_type": "execute_result",
          "data": {
            "text/plain": [
              "'/content/drive/MyDrive/Colab Notebooks/Data/'"
            ],
            "application/vnd.google.colaboratory.intrinsic+json": {
              "type": "string"
            }
          },
          "metadata": {},
          "execution_count": 4
        }
      ]
    },
    {
      "cell_type": "code",
      "source": [
        "FILE = DATA_DIR + 'moviereviews.csv'\n",
        "df_movie = np.array(pd.read_csv(FILE))\n",
        "type(df_movie)\n",
        "#print(df_movie[1,1].split())"
      ],
      "metadata": {
        "colab": {
          "base_uri": "https://localhost:8080/"
        },
        "id": "S7QL9nYDyZMY",
        "outputId": "8a72d66e-7a80-453c-dd9b-0ccf9d9ee10e"
      },
      "execution_count": 34,
      "outputs": [
        {
          "output_type": "execute_result",
          "data": {
            "text/plain": [
              "numpy.ndarray"
            ]
          },
          "metadata": {},
          "execution_count": 34
        }
      ]
    },
    {
      "cell_type": "code",
      "source": [
        "arr=[]\n",
        "for i in range(13):\n",
        "  arr.append(df_movie[i,1].split())\n"
      ],
      "metadata": {
        "id": "06cYUAOh2GmT"
      },
      "execution_count": 33,
      "outputs": []
    },
    {
      "cell_type": "code",
      "source": [
        "arr1=' '.join(df_movie[:,1]).split()"
      ],
      "metadata": {
        "colab": {
          "base_uri": "https://localhost:8080/"
        },
        "id": "5r3qAVL4at3t",
        "outputId": "c0fee7bb-8711-4a9c-ceb5-45aee20d47ba"
      },
      "execution_count": 32,
      "outputs": [
        {
          "output_type": "execute_result",
          "data": {
            "text/plain": [
              "13"
            ]
          },
          "metadata": {},
          "execution_count": 32
        }
      ]
    },
    {
      "cell_type": "code",
      "source": [
        "zeros = np.zeros(len(arr1))\n",
        "#arr2=arr1[j].split()\n",
        "#print(arr2[0]==arr1[0])"
      ],
      "metadata": {
        "id": "8mZjafwWk4Qz"
      },
      "execution_count": 35,
      "outputs": []
    },
    {
      "cell_type": "code",
      "source": [
        "#Calculating the word count and then comparing the resultant to get the similarity\n",
        "j=0\n",
        "count=[]\n",
        "review=[]\n",
        "for i in range(len(df_movie)):\n",
        "  arr2=df_movie[i,1].split()\n",
        "  for j in range(len(arr1)):\n",
        "    if arr1[j]==arr2[i]:\n",
        "      zeros[j]=zeros[j]+1\n",
        "  count=np.array(zeros)\n",
        "\n",
        "\n",
        "\n",
        "\n"
      ],
      "metadata": {
        "id": "iU18sG0HvkAT"
      },
      "execution_count": 39,
      "outputs": []
    }
  ]
}